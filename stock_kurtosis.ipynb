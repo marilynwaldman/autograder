{
 "cells": [
  {
   "cell_type": "markdown",
   "metadata": {},
   "source": [
    "# Moments of a Distribution\n",
    "taken from http://www.aip.de/groups/soe/local/numres/bookcpdf/c14-1.pdf\n"
   ]
  },
  {
   "cell_type": "code",
   "execution_count": null,
   "metadata": {},
   "outputs": [],
   "source": [
    "import pandas as pd\n",
    "import matplotlib.pyplot as plt\n",
    "import numpy as np\n",
    "import scipy\n",
    "import scipy.stats"
   ]
  },
  {
   "cell_type": "markdown",
   "metadata": {},
   "source": [
    "## historical daily prices for S&P 500 TR (total return) index\n",
    "dataset source https://finance.yahoo.com/quote/%5ESP500TR/history?period1=568278000&period2=1548226800&interval=1d&filter=history&frequency=1d\n",
    " \n",
    "NOTE: Adj Close factors in dividends, so that's a more accurate measure of returns"
   ]
  },
  {
   "cell_type": "code",
   "execution_count": null,
   "metadata": {},
   "outputs": [],
   "source": [
    "# dataset source https://finance.yahoo.com/quote/%5ESP500TR/history?period1=568278000&period2=1548226800&interval=1d&filter=history&frequency=1d\n",
    "# historical daily prices for S&P 500 TR (total return) index\n",
    "# NOTE: Adj Close factors in dividends, so that's a more accurate measure of returns\n",
    "url=\"https://raw.githubusercontent.com/marilynwaldman/kurtosis/master/SP500TR.csv\"\n",
    "df = pd.read_csv(url)\n",
    "df.head()"
   ]
  },
  {
   "cell_type": "code",
   "execution_count": null,
   "metadata": {},
   "outputs": [],
   "source": [
    "returns = np.ediff1d(df['Adj Close'].values)  # take Closing value (today) - Closing value (yesterday)\n",
    "pct_returns = returns / df['Adj Close'].values[:-1]  # convert to % by dividing by Closing value (yesterday)\n",
    "pct_returns"
   ]
  },
  {
   "cell_type": "code",
   "execution_count": null,
   "metadata": {},
   "outputs": [],
   "source": [
    "# plot histogram compared to Gaussian.  Looks like this is not a Gaussian!\n",
    "# in fact it is probably a Laplace distribution\n",
    "# https://sixfigureinvesting.com/2016/03/modeling-stock-market-returns-with-laplace-distribution-instead-of-normal/\n",
    "plt.figure(1)\n",
    "plt.hist(pct_returns, bins=100, density=True)\n",
    "plt.xlim((min(pct_returns), max(pct_returns)))\n",
    "\n",
    "# calculate fitted Gaussian\n",
    "mean = np.mean(pct_returns)\n",
    "variance = np.var(pct_returns)\n",
    "sigma = np.sqrt(variance)\n",
    "x = np.linspace(min(pct_returns), max(pct_returns), 100)\n",
    "plt.plot(x, scipy.stats.norm.pdf(x, mean, sigma))\n",
    "\n",
    "plt.show()\n"
   ]
  },
  {
   "cell_type": "code",
   "execution_count": null,
   "metadata": {},
   "outputs": [],
   "source": [
    "# returns have LONG tails.  \"Outlier\" evens definitely happen (i.e. catastrophic market crashes)\n",
    "# kurtosis=3 would be Gaussian.  Anything larger has fat tails\n",
    "from scipy.stats import kurtosis\n",
    "\n",
    "kurtosis(pct_returns)"
   ]
  },
  {
   "cell_type": "code",
   "execution_count": null,
   "metadata": {},
   "outputs": [],
   "source": [
    "# plot again on log scale to really show those fat tails\n",
    "\n",
    "plt.figure(1)\n",
    "plt.hist(pct_returns, bins=20, density=True)\n",
    "plt.xlim((min(pct_returns), max(pct_returns)))\n",
    "\n",
    "# calculate fitted Gaussian\n",
    "mean = np.mean(pct_returns)\n",
    "variance = np.var(pct_returns)\n",
    "sigma = np.sqrt(variance)\n",
    "x = np.linspace(min(pct_returns), max(pct_returns), 100)\n",
    "plt.plot(x, scipy.stats.norm.pdf(x, mean, sigma))\n",
    "\n",
    "plt.yscale('log')\n",
    "plt.show()"
   ]
  },
  {
   "cell_type": "markdown",
   "metadata": {},
   "source": [
    "# Compute the minimum of pct_returns"
   ]
  },
  {
   "cell_type": "code",
   "execution_count": null,
   "metadata": {
    "deletable": false,
    "nbgrader": {
     "checksum": "482ab3f7c9615feaf9f03bf20630b306",
     "grade": false,
     "grade_id": "cell-de82703a1c5d0ce9",
     "locked": false,
     "schema_version": 1,
     "solution": true
    }
   },
   "outputs": [],
   "source": [
    "# pct_rtns_min = np.min(pct_returns)\n",
    "# YOUR CODE HERE\n",
    "raise NotImplementedError()\n"
   ]
  },
  {
   "cell_type": "code",
   "execution_count": null,
   "metadata": {
    "deletable": false,
    "editable": false,
    "nbgrader": {
     "checksum": "5d8c9ae17c7b410c2f444ac68e86cadc",
     "grade": true,
     "grade_id": "cell-1c506a4ab8c48d76",
     "locked": true,
     "points": 10,
     "schema_version": 1,
     "solution": false
    }
   },
   "outputs": [],
   "source": [
    "assert pct_rtns_min == np.min(pct_returns)\n"
   ]
  },
  {
   "cell_type": "markdown",
   "metadata": {},
   "source": [
    "# Compute the maximum of pct_returns"
   ]
  },
  {
   "cell_type": "code",
   "execution_count": null,
   "metadata": {
    "deletable": false,
    "nbgrader": {
     "checksum": "10c30323116a81806ff03f14428f376b",
     "grade": false,
     "grade_id": "cell-3717299e652a94f0",
     "locked": false,
     "schema_version": 1,
     "solution": true
    }
   },
   "outputs": [],
   "source": [
    "# pct_rtns_max = np.max(pct_returns)\n",
    "# YOUR CODE HERE\n",
    "raise NotImplementedError()\n"
   ]
  },
  {
   "cell_type": "code",
   "execution_count": null,
   "metadata": {
    "deletable": false,
    "editable": false,
    "nbgrader": {
     "checksum": "2da688bc19039be4001fbcba802fcd91",
     "grade": true,
     "grade_id": "cell-2b80b629210d048a",
     "locked": true,
     "points": 10,
     "schema_version": 1,
     "solution": false
    }
   },
   "outputs": [],
   "source": [
    "assert pct_rtns_min == np.min(pct_returns)\n"
   ]
  }
 ],
 "metadata": {
  "kernelspec": {
   "display_name": "Python 3",
   "language": "python",
   "name": "python3"
  },
  "language_info": {
   "codemirror_mode": {
    "name": "ipython",
    "version": 3
   },
   "file_extension": ".py",
   "mimetype": "text/x-python",
   "name": "python",
   "nbconvert_exporter": "python",
   "pygments_lexer": "ipython3",
   "version": "3.6.7"
  },
  "latex_envs": {
   "LaTeX_envs_menu_present": true,
   "autoclose": false,
   "autocomplete": true,
   "bibliofile": "biblio.bib",
   "cite_by": "apalike",
   "current_citInitial": 1,
   "eqLabelWithNumbers": true,
   "eqNumInitial": 1,
   "hotkeys": {
    "equation": "Ctrl-E",
    "itemize": "Ctrl-I"
   },
   "labels_anchors": false,
   "latex_user_defs": false,
   "report_style_numbering": false,
   "user_envs_cfg": false
  },
  "toc": {
   "base_numbering": 1,
   "nav_menu": {},
   "number_sections": true,
   "sideBar": true,
   "skip_h1_title": false,
   "title_cell": "Table of Contents",
   "title_sidebar": "Contents",
   "toc_cell": false,
   "toc_position": {},
   "toc_section_display": true,
   "toc_window_display": false
  },
  "varInspector": {
   "cols": {
    "lenName": 16,
    "lenType": 16,
    "lenVar": 40
   },
   "kernels_config": {
    "python": {
     "delete_cmd_postfix": "",
     "delete_cmd_prefix": "del ",
     "library": "var_list.py",
     "varRefreshCmd": "print(var_dic_list())"
    },
    "r": {
     "delete_cmd_postfix": ") ",
     "delete_cmd_prefix": "rm(",
     "library": "var_list.r",
     "varRefreshCmd": "cat(var_dic_list()) "
    }
   },
   "types_to_exclude": [
    "module",
    "function",
    "builtin_function_or_method",
    "instance",
    "_Feature"
   ],
   "window_display": false
  }
 },
 "nbformat": 4,
 "nbformat_minor": 2
}
